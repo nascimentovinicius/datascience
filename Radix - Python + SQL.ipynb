{
 "cells": [
  {
   "cell_type": "markdown",
   "metadata": {},
   "source": [
    "<h1>Questão 1</h1>"
   ]
  },
  {
   "cell_type": "code",
   "execution_count": 1,
   "metadata": {},
   "outputs": [],
   "source": [
    "import pandas as pd"
   ]
  },
  {
   "cell_type": "code",
   "execution_count": 2,
   "metadata": {},
   "outputs": [],
   "source": [
    "matrizEscadinhaEstendida = [\n",
    "     [11, 12, 78, 1, 2, 3, 4, 5, 6, 7, 8, 9, 10],\n",
    "     [10, 11, 12, 78, 1, 2, 3, 4, 5, 6, 7, 8, 9],\n",
    "     [9, 10, 11, 12, 78, 1, 2, 3, 4, 5, 6, 7, 8],\n",
    "     [8, 9, 10, 11, 12, 78, 1, 2, 3, 4, 5, 6, 7],\n",
    "     [7, 8, 9, 10, 11, 12, 78, 1, 2, 3, 4, 5, 6],\n",
    "     [6, 7, 8, 9, 10, 11, 12, 78, 1, 2, 3, 4, 5],\n",
    "     [5, 6, 7, 8, 9, 10, 11, 12, 78, 1, 2, 3, 4],\n",
    "     [4, 5, 6, 7, 8, 9, 10, 11, 12, 78, 1, 2, 3],\n",
    "     [3, 4, 5, 6, 7, 8, 9, 10, 11, 12, 78, 1, 2],\n",
    "     [2, 3, 4, 5, 6, 7, 8, 9, 10, 11, 12, 78, 1],\n",
    "     [1, 2, 3, 4, 5, 6, 7, 8, 9, 10, 11, 12, 78],\n",
    "     [78, 1, 2, 3, 4, 5, 6, 7, 8, 9, 10, 11, 12],\n",
    "     [12, 78, 1, 2, 3, 4, 5, 6, 7, 8, 9, 10, 11],\n",
    "     [11, 12, 78, 1, 2, 3, 4, 5, 6, 7, 8, 9, 10],\n",
    "     [10, 11, 12, 78, 1, 2, 3, 4, 5, 6, 7, 8, 9],\n",
    "     [9, 10, 11, 12, 78, 1, 2, 3, 4, 5, 6, 7, 8],\n",
    "     [8, 9, 10, 11, 12, 78, 1, 2, 3, 4, 5, 6, 7],\n",
    "     [7, 8, 9, 10, 11, 12, 78, 1, 2, 3, 4, 5, 6],\n",
    "     [6, 7, 8, 9, 10, 11, 12, 78, 1, 2, 3, 4, 5],\n",
    "     [5, 6, 7, 8, 9, 10, 11, 12, 78, 1, 2, 3, 4],\n",
    "]\n",
    "\n",
    "matrizCorreta = [\n",
    "    [1, 2, 3, 4, 5, 6, 7, 8, 9, 10, 11, 12, 78],\n",
    "    [1, 2, 3, 4, 5, 6, 7, 8, 9, 10, 11, 12, 78],\n",
    "    [1, 2, 3, 4, 5, 6, 7, 8, 9, 10, 11, 12, 78],\n",
    "]\n",
    "\n",
    "matrizEscadinhaReversa = [\n",
    "     [5, 6, 7, 8, 9, 10, 11, 12, 78, 1, 2, 3, 4],\n",
    "     [6, 7, 8, 9, 10, 11, 12, 78,1, 2, 3, 4, 5],\n",
    "     [7, 8, 9, 10, 11, 12, 78,1, 2, 3, 4, 5, 6],\n",
    "     [8, 9, 10, 11, 12, 78,1, 2, 3, 4, 5, 6, 7]\n",
    " ]\n",
    "\n",
    "df = pd.DataFrame(matrizEscadinhaEstendida)\n",
    "df2 = pd.DataFrame(matrizCorreta)\n",
    "df3 = pd.DataFrame(matrizEscadinhaReversa)"
   ]
  },
  {
   "cell_type": "markdown",
   "metadata": {},
   "source": [
    "<b>1) Verifica se há escadinha,  dada uma matriz como os exemplos acima</b>"
   ]
  },
  {
   "cell_type": "code",
   "execution_count": 3,
   "metadata": {},
   "outputs": [
    {
     "name": "stdout",
     "output_type": "stream",
     "text": [
      "True\n",
      "False\n",
      "False\n"
     ]
    }
   ],
   "source": [
    "# \n",
    "def check_escadinha(df):\n",
    "    #obtem a linha e sua próxima e compara os indices 0 e 1 das colunas. Caso valores sejam diferentes, retorna Falso\n",
    "    for i in range(len(df)-1):\n",
    "        if(df.iloc[i,0] != df.iloc[i+1, 1]):\n",
    "            return False\n",
    "    return True\n",
    "\n",
    "print(check_escadinha(df))\n",
    "print(check_escadinha(df2))\n",
    "print(check_escadinha(df3))"
   ]
  },
  {
   "cell_type": "markdown",
   "metadata": {},
   "source": [
    "<b>2)Se houver escadinha, mapear os dados corretamente, retornando a matriz correta.</b>"
   ]
  },
  {
   "cell_type": "code",
   "execution_count": 4,
   "metadata": {
    "scrolled": true
   },
   "outputs": [
    {
     "name": "stdout",
     "output_type": "stream",
     "text": [
      "Matriz Escadinha\n",
      "    0   1   2   3   4   5   6   7   8   9   10  11  12\n",
      "0    1   2   3   4   5   6   7   8   9  10  11  12  78\n",
      "1    1   2   3   4   5   6   7   8   9  10  11  12  78\n",
      "2    1   2   3   4   5   6   7   8   9  10  11  12  78\n",
      "3    1   2   3   4   5   6   7   8   9  10  11  12  78\n",
      "4    1   2   3   4   5   6   7   8   9  10  11  12  78\n",
      "5    1   2   3   4   5   6   7   8   9  10  11  12  78\n",
      "6    1   2   3   4   5   6   7   8   9  10  11  12  78\n",
      "7    1   2   3   4   5   6   7   8   9  10  11  12  78\n",
      "8    1   2   3   4   5   6   7   8   9  10  11  12  78\n",
      "9    1   2   3   4   5   6   7   8   9  10  11  12  78\n",
      "10   1   2   3   4   5   6   7   8   9  10  11  12  78\n",
      "11   1   2   3   4   5   6   7   8   9  10  11  12  78\n",
      "12   1   2   3   4   5   6   7   8   9  10  11  12  78\n",
      "13   1   2   3   4   5   6   7   8   9  10  11  12  78\n",
      "14   1   2   3   4   5   6   7   8   9  10  11  12  78\n",
      "15   1   2   3   4   5   6   7   8   9  10  11  12  78\n",
      "16   1   2   3   4   5   6   7   8   9  10  11  12  78\n",
      "17   1   2   3   4   5   6   7   8   9  10  11  12  78\n",
      "18   1   2   3   4   5   6   7   8   9  10  11  12  78\n",
      "19   1   2   3   4   5   6   7   8   9  10  11  12  78\n",
      "\n",
      "Matriz Correta\n",
      "   0   1   2   3   4   5   6   7   8   9   10  11  12\n",
      "0   1   2   3   4   5   6   7   8   9  10  11  12  78\n",
      "1   1   2   3   4   5   6   7   8   9  10  11  12  78\n",
      "2   1   2   3   4   5   6   7   8   9  10  11  12  78\n",
      "\n",
      "Matriz Escadinha Reversa\n",
      "   0   1   2   3   4   5   6   7   8   9   10  11  12\n",
      "0   5   6   7   8   9  10  11  12  78   1   2   3   4\n",
      "1   6   7   8   9  10  11  12  78   1   2   3   4   5\n",
      "2   7   8   9  10  11  12  78   1   2   3   4   5   6\n",
      "3   8   9  10  11  12  78   1   2   3   4   5   6   7\n"
     ]
    }
   ],
   "source": [
    "def get_unlittlestaired_matrix(df):\n",
    "    if(check_escadinha(df)):\n",
    "        #Analisar cada row individualmente\n",
    "        for i in range(len(df)):\n",
    "            series = df.iloc[i]\n",
    "            #anchor para achar o total\n",
    "            total = series.max()\n",
    "            anchor = series.idxmax()\n",
    "            #crio uma série nova do anchor+1 até len(series)\n",
    "            new_series = series[anchor+1:len(series)]\n",
    "            #crio uma série com o resto de 0 até anchor\n",
    "            series_temp = series[0:anchor+1]\n",
    "            #concateno um com o outro\n",
    "            new_series = new_series.append(series_temp, ignore_index=True)\n",
    "            #substituo a série antiga\n",
    "            df.iloc[i] = new_series\n",
    "\n",
    "print(\"Matriz Escadinha\")\n",
    "get_unlittlestaired_matrix(df)\n",
    "print(df)\n",
    "print(\"\")\n",
    "print(\"Matriz Correta\")\n",
    "get_unlittlestaired_matrix(df2)\n",
    "print(df2)\n",
    "print(\"\")\n",
    "print(\"Matriz Escadinha Reversa\")\n",
    "get_unlittlestaired_matrix(df3)\n",
    "print(df3)"
   ]
  },
  {
   "cell_type": "markdown",
   "metadata": {},
   "source": [
    "<b>3)  Se não houver escadinha, retorne se a matriz está com uma formatação que pode ser utilizada (padrão correto) ou se corresponde a um padrão inutilizável</b>"
   ]
  },
  {
   "cell_type": "code",
   "execution_count": 5,
   "metadata": {},
   "outputs": [
    {
     "name": "stdout",
     "output_type": "stream",
     "text": [
      "Padrão Correto\n",
      "Padrão Correto\n",
      "Padrão Inutilizável\n"
     ]
    }
   ],
   "source": [
    "def check_correct_matrix(df):\n",
    "    correct = True\n",
    "    for i in range(len(df)-1):\n",
    "        if(df.iloc[i,-1] != df.iloc[i].max()):\n",
    "            correct = False\n",
    "        if(df.iloc[i,0] != df.iloc[i+1, 0]):\n",
    "            correct = False\n",
    "    if(correct):\n",
    "        print(\"Padrão Correto\")\n",
    "    else:\n",
    "        print(\"Padrão Inutilizável\")\n",
    "        \n",
    "check_correct_matrix(df)\n",
    "check_correct_matrix(df2)\n",
    "check_correct_matrix(df3)"
   ]
  },
  {
   "cell_type": "markdown",
   "metadata": {},
   "source": [
    "<b>4) Caso fossem possíveis números negativos nos valores dos meses (não no total), a sua solução ainda seria válida?\n",
    "Caso não, como seria a nova solução? </b>\n",
    "\n",
    "<p>A solução não seria válida pois a abordagem utilizada depende de encontrar o maior valor(soma de todos os meses) \n",
    "e obter os valores em volta dele</p>"
   ]
  },
  {
   "cell_type": "code",
   "execution_count": 25,
   "metadata": {},
   "outputs": [],
   "source": [
    "matrizNegativos = [\n",
    "    [11, -24, 6, 1, 2, -3, 4, 5, -6, 7, 8, -9, 10],\n",
    "    #[10, 11, -24, 6, 1, 2, -3, 4, 5, -6, 7, 8, -9],\n",
    "    #[-9, 10, 11, -24, 6, 1, 2, -3, 4, 5, -6, 7, 8],\n",
    "]"
   ]
  },
  {
   "cell_type": "code",
   "execution_count": 27,
   "metadata": {},
   "outputs": [
    {
     "name": "stdout",
     "output_type": "stream",
     "text": [
      "[11, -24, 6, 1, 2, -3, 4, 5, -6, 7, 8, -9, 10]\n",
      "[]\n",
      "Direita: 0\n",
      "[-24, 6, 1, 2, -3, 4, 5, -6, 7, 8, -9, 10]\n",
      "Esquerda: 1\n",
      "Diferente\n",
      "[11]\n",
      "Direita: 11\n",
      "[6, 1, 2, -3, 4, 5, -6, 7, 8, -9, 10]\n",
      "Esquerda: 25\n",
      "Diferente\n",
      "[11, -24]\n",
      "Direita: -13\n",
      "[1, 2, -3, 4, 5, -6, 7, 8, -9, 10]\n",
      "Esquerda: 19\n",
      "Diferente\n",
      "[11, -24, 6]\n",
      "Direita: -7\n",
      "[2, -3, 4, 5, -6, 7, 8, -9, 10]\n",
      "Esquerda: 18\n",
      "Diferente\n",
      "[11, -24, 6, 1]\n",
      "Direita: -6\n",
      "[-3, 4, 5, -6, 7, 8, -9, 10]\n",
      "Esquerda: 16\n",
      "Diferente\n",
      "[11, -24, 6, 1, 2]\n",
      "Direita: -4\n",
      "[4, 5, -6, 7, 8, -9, 10]\n",
      "Esquerda: 19\n",
      "Diferente\n",
      "[11, -24, 6, 1, 2, -3]\n",
      "Direita: -7\n",
      "[5, -6, 7, 8, -9, 10]\n",
      "Esquerda: 15\n",
      "Diferente\n",
      "[11, -24, 6, 1, 2, -3, 4]\n",
      "Direita: -3\n",
      "[-6, 7, 8, -9, 10]\n",
      "Esquerda: 10\n",
      "Diferente\n",
      "[11, -24, 6, 1, 2, -3, 4, 5]\n",
      "Direita: 2\n",
      "[7, 8, -9, 10]\n",
      "Esquerda: 16\n",
      "Diferente\n",
      "[11, -24, 6, 1, 2, -3, 4, 5, -6]\n",
      "Direita: -4\n",
      "[8, -9, 10]\n",
      "Esquerda: 9\n",
      "Diferente\n",
      "[11, -24, 6, 1, 2, -3, 4, 5, -6, 7]\n",
      "Direita: 3\n",
      "[-9, 10]\n",
      "Esquerda: 1\n",
      "Diferente\n",
      "[11, -24, 6, 1, 2, -3, 4, 5, -6, 7, 8]\n",
      "Direita: 11\n",
      "[10]\n",
      "Esquerda: 10\n",
      "Diferente\n",
      "[11, -24, 6, 1, 2, -3, 4, 5, -6, 7, 8, -9]\n",
      "Direita: 2\n",
      "[]\n",
      "Esquerda: 0\n",
      "Diferente\n"
     ]
    }
   ],
   "source": [
    "# para cada row\n",
    "# for i in range(len(series))\n",
    "# anchor = series[i]\n",
    "# soma_esquerda = series[0:anchor+1]\n",
    "# soma_direita = series[anchor+1:len(series)]\n",
    "# if(anchor == soma_esquerda.sum() + soma_direita.sum())\n",
    "# return anchor_index\n",
    "# usando anchor_index, fazer o slice da direita e da esquerda e concatenar\n",
    "\n",
    "#Analisar cada row individualmente\n",
    "for i in range(len(matrizNegativos)):\n",
    "    #Pega um row do DataFrame\n",
    "    series = matrizNegativos[i]\n",
    "    print(str(series))\n",
    "    anchor = -1\n",
    "    for j in range(len(series)):\n",
    "        print(series[0:j])\n",
    "        direita = sum(series[0:j])\n",
    "        print(\"Direita: \"+ str(direita))\n",
    "        print(series[j+1:len(series)])\n",
    "        esquerda = sum(series[j+1:len(series)])\n",
    "        print(\"Esquerda: \"+ str(esquerda))\n",
    "        if(series[j] == soma_direita + soma_esquerda):\n",
    "            anchor = j\n",
    "            print(\"Igual\")\n",
    "            continue\n",
    "        else:\n",
    "            print(\"Diferente\")\n",
    "    "
   ]
  },
  {
   "cell_type": "markdown",
   "metadata": {},
   "source": [
    "<h1>Questão 2</h1>"
   ]
  },
  {
   "cell_type": "markdown",
   "metadata": {},
   "source": [
    "Você tem duas tabelas em um banco de dados relacional. \n",
    "<br /><br />\n",
    "Tabela Vendedor: \n",
    "<br />vendedor_id (int)\n",
    "<br />vendedor_nome (string) \n",
    "<br /><br />\n",
    "Tabela Venda:\n",
    "<br />venda_id (int)\n",
    "<br />vendedor_id (int)\n",
    "<br />venda_data (data dd/mm/aaaa)\n",
    "<br />venda_valor (double) \n",
    "<br /> <br />\n",
    "Retorne a lista com a venda de valor mais alto de cada vendedor para o ano de 2016. Não utilize as funções Min/Max"
   ]
  },
  {
   "cell_type": "code",
   "execution_count": 8,
   "metadata": {},
   "outputs": [
    {
     "ename": "IndentationError",
     "evalue": "unindent does not match any outer indentation level (<tokenize>, line 3)",
     "output_type": "error",
     "traceback": [
      "\u001b[1;36m  File \u001b[1;32m\"<tokenize>\"\u001b[1;36m, line \u001b[1;32m3\u001b[0m\n\u001b[1;33m    ,a.venda_valor as ValorVenda\u001b[0m\n\u001b[1;37m    ^\u001b[0m\n\u001b[1;31mIndentationError\u001b[0m\u001b[1;31m:\u001b[0m unindent does not match any outer indentation level\n"
     ]
    }
   ],
   "source": [
    "Select \n",
    "     a.vendedor as Vendedor\n",
    "    ,a.venda_valor as ValorVenda\n",
    "from (\n",
    "    Select \n",
    "         v.vendedor_nome as vendedor\n",
    "        ,x.venda_valor as venda_valor\n",
    "        ,RANK() over (PARTITION BY v.vendedor_nome ORDER BY x.venda_valor desc) as rank\n",
    "    from vendedor v\n",
    "    inner join venda x on x.vendedor_id = v.vendedor_id\n",
    "    where \n",
    "        year(x.venda_data) = 2016\n",
    "    ) a\n",
    "where a.rank = 1\n",
    "group by a.vendedor, a.venda_valor"
   ]
  }
 ],
 "metadata": {
  "kernelspec": {
   "display_name": "Python 3",
   "language": "python",
   "name": "python3"
  },
  "language_info": {
   "codemirror_mode": {
    "name": "ipython",
    "version": 3
   },
   "file_extension": ".py",
   "mimetype": "text/x-python",
   "name": "python",
   "nbconvert_exporter": "python",
   "pygments_lexer": "ipython3",
   "version": "3.7.3"
  }
 },
 "nbformat": 4,
 "nbformat_minor": 2
}
